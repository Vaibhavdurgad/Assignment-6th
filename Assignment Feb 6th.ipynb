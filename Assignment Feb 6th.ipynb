{
 "cells": [
  {
   "cell_type": "markdown",
   "id": "ab8fe873-8818-4012-8e59-e41c257e583f",
   "metadata": {},
   "source": [
    "Q1. Create a function which will take a list as an argument and return the product of all the numbers\n",
    "after creating a flat list.\n",
    "Use the below-given list as an argument for your function.\n",
    "list1 = [1,2,3,4, [44,55,66, True], False, (34,56,78,89,34), {1,2,3,3,2,1}, {1:34, \"key2\": [55, 67, 78, 89], 4: (45,\n",
    "22, 61, 34)}, [56, 'data science'], 'Machine Learning']\n",
    "Note: you must extract numeric keys and values of the dictionary also."
   ]
  },
  {
   "cell_type": "code",
   "execution_count": 10,
   "id": "35b51186-1bee-498f-9a42-2d366556ef78",
   "metadata": {},
   "outputs": [
    {
     "name": "stdout",
     "output_type": "stream",
     "text": [
      "[1, 2, 3, 4, 44, 55, 66, 34, 56, 78, 89, 34, 1, 2, 3, 1, 4, 34, 55, 67, 78, 89, 45, 22, 61, 34, 56]\n"
     ]
    }
   ],
   "source": [
    "from functools import reduce\n",
    "def product(lst):\n",
    "    flatList=[]\n",
    "    for i in lst:\n",
    "        if type(i)==list or type(i)==tuple or type(i)==set:\n",
    "            for j in i:\n",
    "                if type(j)==int:\n",
    "                    flatList.append(j)\n",
    "        elif type(i)==dict:\n",
    "            for a in i.keys():\n",
    "                if type(a)==int:\n",
    "                    flatList.append(a)\n",
    "            for b in i.values():\n",
    "                if type(b)==int:\n",
    "                    flatList.append(b)\n",
    "                if type(b)==list or type(b)==tuple:\n",
    "                    for c in b:\n",
    "                        if type(c)==int:\n",
    "                            flatList.append(c)\n",
    "        else:\n",
    "            if type(i)==int:\n",
    "                flatList.append(i)\n",
    "    return flatList\n",
    "list1 = [1,2,3,4, [44,55,66, True], False, (34,56,78,89,34), {1,2,3,3,2,1}, {1:34, \"key2\": [55, 67, 78, 89], 4: (45, 22, 61, 34)}, [56, 'data science'], 'Machine Learning']\n",
    "print(product(list1))"
   ]
  },
  {
   "cell_type": "markdown",
   "id": "aac032df-e9e5-4bde-8e5e-4a1a0b9164c4",
   "metadata": {},
   "source": [
    "Q2. Write a python program for encrypting a message sent to you by your friend. The logic of encryption\n",
    "should be such that, for a the output should be z. For b, the output should be y. For c, the output should\n",
    "be x respectively. Also, the whitespace should be replaced with a dollar sign. Keep the punctuation\n",
    "marks unchanged.\n",
    "Input Sentence: I want to become a Data Scientist.\n",
    "Encrypt the above input sentence using the program you just created."
   ]
  },
  {
   "cell_type": "code",
   "execution_count": 13,
   "id": "07eeac34-3191-4e5d-a208-69f0eb958b69",
   "metadata": {},
   "outputs": [
    {
     "name": "stdout",
     "output_type": "stream",
     "text": [
      "{'tsitneixS$ztzD$z$emoxey$ot$tnzw$I'}\n"
     ]
    }
   ],
   "source": [
    "# Create an input field\n",
    "encrypt = \"I want to become a Data Scientist\"\n",
    "\n",
    "# Create a dictionary to store keys\n",
    "# and values\n",
    "dict = {\"a\": \"z\", \"b\": \"y\",\n",
    "\t\t\"c\": \"x\", \" \": \"$\"}\n",
    "\n",
    "num = encrypt[::-1]\n",
    "\n",
    "for i in dict:\n",
    "\tnum = num.replace(i, dict[i])\n",
    "\n",
    "# f- strings which improves readability\n",
    "print({num})\n"
   ]
  },
  {
   "cell_type": "code",
   "execution_count": null,
   "id": "eac1f548-a8d6-4f45-8869-97ec052fb284",
   "metadata": {},
   "outputs": [],
   "source": []
  }
 ],
 "metadata": {
  "kernelspec": {
   "display_name": "Python 3 (ipykernel)",
   "language": "python",
   "name": "python3"
  },
  "language_info": {
   "codemirror_mode": {
    "name": "ipython",
    "version": 3
   },
   "file_extension": ".py",
   "mimetype": "text/x-python",
   "name": "python",
   "nbconvert_exporter": "python",
   "pygments_lexer": "ipython3",
   "version": "3.10.8"
  }
 },
 "nbformat": 4,
 "nbformat_minor": 5
}
